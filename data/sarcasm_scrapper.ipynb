{
 "cells": [
  {
   "cell_type": "code",
   "execution_count": 29,
   "metadata": {},
   "outputs": [],
   "source": [
    "import praw\n",
    "import warnings\n",
    "import re\n",
    "import pandas as pd\n",
    "\n",
    "client_id='SE324H54EoJRHlQAbJq01g'\n",
    "client_secret='9mSxyGSguVoqfTqkGiL8Sux0-NUjbA'\n",
    "\n",
    "# Define data frame\n",
    "df = pd.DataFrame(columns=['Title', 'Body','Comment_Ups','Comment_Downs','Post_Ups','Post_Downs','Parent_Post','Score','Comment_Author','Post_Author','Sarcastic'])\n",
    "\n",
    "# Create a Reddit instance\n",
    "reddit = praw.Reddit(client_id=client_id,\n",
    "                     client_secret=client_secret,\n",
    "                     user_agent='Aggravating_Focus_60')\n",
    "\n",
    "# Get specifed subreddit\n",
    "subreddit = reddit.subreddit('vaxxhappened')\n",
    "\n",
    "# Get the hot posts from the subreddit\n",
    "hot_posts = subreddit.hot(limit=90000)\n",
    "\n",
    "# Supress deprecated df.append() warning\n",
    "warnings.filterwarnings('ignore', category=FutureWarning)\n",
    "\n",
    "# Scrap data\n",
    "for post in hot_posts:\n",
    "    for comment in post.comments:\n",
    "        try:\n",
    "            if not isinstance(comment, praw.models.MoreComments):\n",
    "                if re.search('/s$',comment.body):\n",
    "                    sarcastic = 1\n",
    "                else:\n",
    "                    sarcastic = 0\n",
    "                    \n",
    "                df = df.append({\n",
    "                    'Title': post.title,\n",
    "                    'Body': comment.body,\n",
    "                    'Comment_Ups': comment.ups,\n",
    "                    'Comment_Downs': comment.downs,\n",
    "                    'Post_Ups': post.ups,\n",
    "                    'Post_Downs': post.ups,\n",
    "                    'Parent_Post' : comment.submission.selftext,\n",
    "                    'Score' : comment.submission.score,\n",
    "                    'Comment_Author': comment.author.name,\n",
    "                    'Post_Author': comment.submission.author.name,\n",
    "                    'Sarcastic': sarcastic\n",
    "                }, ignore_index=True)\n",
    "        except AttributeError:\n",
    "            continue\n",
    "\n",
    "            \n",
    "            "
   ]
  },
  {
   "cell_type": "code",
   "execution_count": 30,
   "metadata": {},
   "outputs": [
    {
     "data": {
      "text/html": [
       "<div>\n",
       "<style scoped>\n",
       "    .dataframe tbody tr th:only-of-type {\n",
       "        vertical-align: middle;\n",
       "    }\n",
       "\n",
       "    .dataframe tbody tr th {\n",
       "        vertical-align: top;\n",
       "    }\n",
       "\n",
       "    .dataframe thead th {\n",
       "        text-align: right;\n",
       "    }\n",
       "</style>\n",
       "<table border=\"1\" class=\"dataframe\">\n",
       "  <thead>\n",
       "    <tr style=\"text-align: right;\">\n",
       "      <th></th>\n",
       "      <th>Title</th>\n",
       "      <th>Body</th>\n",
       "      <th>Comment_Ups</th>\n",
       "      <th>Comment_Downs</th>\n",
       "      <th>Post_Ups</th>\n",
       "      <th>Post_Downs</th>\n",
       "      <th>Parent_Post</th>\n",
       "      <th>Score</th>\n",
       "      <th>Comment_Author</th>\n",
       "      <th>Post_Author</th>\n",
       "      <th>Sarcastic</th>\n",
       "    </tr>\n",
       "  </thead>\n",
       "  <tbody>\n",
       "    <tr>\n",
       "      <th>26</th>\n",
       "      <td>You really can't get more dishonest than this</td>\n",
       "      <td>It was so deadly that there's virtually nobody...</td>\n",
       "      <td>3</td>\n",
       "      <td>0</td>\n",
       "      <td>1127</td>\n",
       "      <td>1127</td>\n",
       "      <td></td>\n",
       "      <td>1127</td>\n",
       "      <td>jbwhite42</td>\n",
       "      <td>maybesaydie</td>\n",
       "      <td>1</td>\n",
       "    </tr>\n",
       "    <tr>\n",
       "      <th>99</th>\n",
       "      <td>This.</td>\n",
       "      <td>Well of course you'd say that... /s</td>\n",
       "      <td>49</td>\n",
       "      <td>0</td>\n",
       "      <td>1361</td>\n",
       "      <td>1361</td>\n",
       "      <td></td>\n",
       "      <td>1361</td>\n",
       "      <td>Moneia</td>\n",
       "      <td>North_Recognition199</td>\n",
       "      <td>1</td>\n",
       "    </tr>\n",
       "    <tr>\n",
       "      <th>100</th>\n",
       "      <td>This.</td>\n",
       "      <td>Ok, I re-evaluated my views and came to the co...</td>\n",
       "      <td>45</td>\n",
       "      <td>0</td>\n",
       "      <td>1361</td>\n",
       "      <td>1361</td>\n",
       "      <td></td>\n",
       "      <td>1361</td>\n",
       "      <td>BranWafr</td>\n",
       "      <td>North_Recognition199</td>\n",
       "      <td>1</td>\n",
       "    </tr>\n",
       "    <tr>\n",
       "      <th>109</th>\n",
       "      <td>Antivax Doctor blames death of 67 yr old with ...</td>\n",
       "      <td>The covid vaccines must have been around for a...</td>\n",
       "      <td>10</td>\n",
       "      <td>0</td>\n",
       "      <td>97</td>\n",
       "      <td>97</td>\n",
       "      <td>Paul O’Grady was a much loved British entertai...</td>\n",
       "      <td>97</td>\n",
       "      <td>sonicpool69</td>\n",
       "      <td>majesticfloofiness</td>\n",
       "      <td>1</td>\n",
       "    </tr>\n",
       "    <tr>\n",
       "      <th>382</th>\n",
       "      <td>From the hospital room of a covid patient</td>\n",
       "      <td>You'd think they would at least realise covid ...</td>\n",
       "      <td>2</td>\n",
       "      <td>0</td>\n",
       "      <td>4735</td>\n",
       "      <td>4735</td>\n",
       "      <td></td>\n",
       "      <td>4735</td>\n",
       "      <td>LilG1984</td>\n",
       "      <td>maybesaydie</td>\n",
       "      <td>1</td>\n",
       "    </tr>\n",
       "    <tr>\n",
       "      <th>...</th>\n",
       "      <td>...</td>\n",
       "      <td>...</td>\n",
       "      <td>...</td>\n",
       "      <td>...</td>\n",
       "      <td>...</td>\n",
       "      <td>...</td>\n",
       "      <td>...</td>\n",
       "      <td>...</td>\n",
       "      <td>...</td>\n",
       "      <td>...</td>\n",
       "      <td>...</td>\n",
       "    </tr>\n",
       "    <tr>\n",
       "      <th>15784</th>\n",
       "      <td>Beware the Black Goo Energy! (Reposted with re...</td>\n",
       "      <td>She is really making some good sane arguments ...</td>\n",
       "      <td>4</td>\n",
       "      <td>0</td>\n",
       "      <td>565</td>\n",
       "      <td>565</td>\n",
       "      <td></td>\n",
       "      <td>565</td>\n",
       "      <td>V4refugee</td>\n",
       "      <td>oeeom12</td>\n",
       "      <td>1</td>\n",
       "    </tr>\n",
       "    <tr>\n",
       "      <th>15843</th>\n",
       "      <td>US Life Expectancy Drops Slightly: r/conspirac...</td>\n",
       "      <td>Or maybe the shit show that is American health...</td>\n",
       "      <td>3</td>\n",
       "      <td>0</td>\n",
       "      <td>3558</td>\n",
       "      <td>3558</td>\n",
       "      <td></td>\n",
       "      <td>3558</td>\n",
       "      <td>SirKlock2</td>\n",
       "      <td>maybesaydie</td>\n",
       "      <td>1</td>\n",
       "    </tr>\n",
       "    <tr>\n",
       "      <th>16268</th>\n",
       "      <td>\"If vaccines are so great why aren't they ment...</td>\n",
       "      <td>\"Jesus says: get vaccinated idiots or you'll d...</td>\n",
       "      <td>5</td>\n",
       "      <td>0</td>\n",
       "      <td>4003</td>\n",
       "      <td>4003</td>\n",
       "      <td></td>\n",
       "      <td>4003</td>\n",
       "      <td>LilG1984</td>\n",
       "      <td>maybesaydie</td>\n",
       "      <td>1</td>\n",
       "    </tr>\n",
       "    <tr>\n",
       "      <th>16274</th>\n",
       "      <td>\"If vaccines are so great why aren't they ment...</td>\n",
       "      <td>Jesus rode into Jerusalem on a donkey. He show...</td>\n",
       "      <td>3</td>\n",
       "      <td>0</td>\n",
       "      <td>4003</td>\n",
       "      <td>4003</td>\n",
       "      <td></td>\n",
       "      <td>4003</td>\n",
       "      <td>kaths660</td>\n",
       "      <td>maybesaydie</td>\n",
       "      <td>1</td>\n",
       "    </tr>\n",
       "    <tr>\n",
       "      <th>16435</th>\n",
       "      <td>r/conspiracy is still angry about r/NoNewNormal</td>\n",
       "      <td>literally 1984 /s</td>\n",
       "      <td>3</td>\n",
       "      <td>0</td>\n",
       "      <td>1937</td>\n",
       "      <td>1937</td>\n",
       "      <td></td>\n",
       "      <td>1937</td>\n",
       "      <td>AltAccMia</td>\n",
       "      <td>maybesaydie</td>\n",
       "      <td>1</td>\n",
       "    </tr>\n",
       "  </tbody>\n",
       "</table>\n",
       "<p>158 rows × 11 columns</p>\n",
       "</div>"
      ],
      "text/plain": [
       "                                                   Title  \\\n",
       "26         You really can't get more dishonest than this   \n",
       "99                                                 This.   \n",
       "100                                                This.   \n",
       "109    Antivax Doctor blames death of 67 yr old with ...   \n",
       "382            From the hospital room of a covid patient   \n",
       "...                                                  ...   \n",
       "15784  Beware the Black Goo Energy! (Reposted with re...   \n",
       "15843  US Life Expectancy Drops Slightly: r/conspirac...   \n",
       "16268  \"If vaccines are so great why aren't they ment...   \n",
       "16274  \"If vaccines are so great why aren't they ment...   \n",
       "16435    r/conspiracy is still angry about r/NoNewNormal   \n",
       "\n",
       "                                                    Body Comment_Ups  \\\n",
       "26     It was so deadly that there's virtually nobody...           3   \n",
       "99                   Well of course you'd say that... /s          49   \n",
       "100    Ok, I re-evaluated my views and came to the co...          45   \n",
       "109    The covid vaccines must have been around for a...          10   \n",
       "382    You'd think they would at least realise covid ...           2   \n",
       "...                                                  ...         ...   \n",
       "15784  She is really making some good sane arguments ...           4   \n",
       "15843  Or maybe the shit show that is American health...           3   \n",
       "16268  \"Jesus says: get vaccinated idiots or you'll d...           5   \n",
       "16274  Jesus rode into Jerusalem on a donkey. He show...           3   \n",
       "16435                                  literally 1984 /s           3   \n",
       "\n",
       "      Comment_Downs Post_Ups Post_Downs  \\\n",
       "26                0     1127       1127   \n",
       "99                0     1361       1361   \n",
       "100               0     1361       1361   \n",
       "109               0       97         97   \n",
       "382               0     4735       4735   \n",
       "...             ...      ...        ...   \n",
       "15784             0      565        565   \n",
       "15843             0     3558       3558   \n",
       "16268             0     4003       4003   \n",
       "16274             0     4003       4003   \n",
       "16435             0     1937       1937   \n",
       "\n",
       "                                             Parent_Post Score Comment_Author  \\\n",
       "26                                                        1127      jbwhite42   \n",
       "99                                                        1361         Moneia   \n",
       "100                                                       1361       BranWafr   \n",
       "109    Paul O’Grady was a much loved British entertai...    97    sonicpool69   \n",
       "382                                                       4735       LilG1984   \n",
       "...                                                  ...   ...            ...   \n",
       "15784                                                      565      V4refugee   \n",
       "15843                                                     3558      SirKlock2   \n",
       "16268                                                     4003       LilG1984   \n",
       "16274                                                     4003       kaths660   \n",
       "16435                                                     1937      AltAccMia   \n",
       "\n",
       "                Post_Author Sarcastic  \n",
       "26              maybesaydie         1  \n",
       "99     North_Recognition199         1  \n",
       "100    North_Recognition199         1  \n",
       "109      majesticfloofiness         1  \n",
       "382             maybesaydie         1  \n",
       "...                     ...       ...  \n",
       "15784               oeeom12         1  \n",
       "15843           maybesaydie         1  \n",
       "16268           maybesaydie         1  \n",
       "16274           maybesaydie         1  \n",
       "16435           maybesaydie         1  \n",
       "\n",
       "[158 rows x 11 columns]"
      ]
     },
     "execution_count": 30,
     "metadata": {},
     "output_type": "execute_result"
    }
   ],
   "source": [
    "df[df['Sarcastic']==1]"
   ]
  },
  {
   "cell_type": "code",
   "execution_count": 28,
   "metadata": {},
   "outputs": [],
   "source": [
    "df.to_csv('vaxxhappened.csv', index=False)\n"
   ]
  },
  {
   "cell_type": "code",
   "execution_count": 23,
   "metadata": {},
   "outputs": [
    {
     "data": {
      "text/plain": [
       "(23955, 11)"
      ]
     },
     "execution_count": 23,
     "metadata": {},
     "output_type": "execute_result"
    }
   ],
   "source": [
    "dft.shape"
   ]
  },
  {
   "cell_type": "code",
   "execution_count": 12,
   "metadata": {},
   "outputs": [],
   "source": [
    "dft"
   ]
  },
  {
   "cell_type": "code",
   "execution_count": 15,
   "metadata": {},
   "outputs": [
    {
     "data": {
      "text/plain": [
       "(12, 11)"
      ]
     },
     "execution_count": 15,
     "metadata": {},
     "output_type": "execute_result"
    }
   ],
   "source": [
    "dft = pd.read_csv(\"Raw\\AmItheAsshole.csv\")\n",
    "dft[dft['Sarcastic']==1].shape"
   ]
  },
  {
   "cell_type": "code",
   "execution_count": 25,
   "metadata": {},
   "outputs": [
    {
     "data": {
      "text/plain": [
       "(5, 11)"
      ]
     },
     "execution_count": 25,
     "metadata": {},
     "output_type": "execute_result"
    }
   ],
   "source": [
    "dft = pd.read_csv(r\"Raw\\askreddit.csv\")\n",
    "dft[dft['Sarcastic']==1].shape"
   ]
  },
  {
   "cell_type": "code",
   "execution_count": 18,
   "metadata": {},
   "outputs": [
    {
     "data": {
      "text/plain": [
       "(4, 11)"
      ]
     },
     "execution_count": 18,
     "metadata": {},
     "output_type": "execute_result"
    }
   ],
   "source": [
    "dft = pd.read_csv(r\"Raw\\food.csv\")\n",
    "dft[dft['Sarcastic']==1].shape"
   ]
  },
  {
   "cell_type": "code",
   "execution_count": 19,
   "metadata": {},
   "outputs": [
    {
     "data": {
      "text/plain": [
       "(19, 11)"
      ]
     },
     "execution_count": 19,
     "metadata": {},
     "output_type": "execute_result"
    }
   ],
   "source": [
    "dft = pd.read_csv(r\"Raw\\todayilearned.csv\")\n",
    "dft[dft['Sarcastic']==1].shape"
   ]
  },
  {
   "cell_type": "code",
   "execution_count": 20,
   "metadata": {},
   "outputs": [
    {
     "data": {
      "text/plain": [
       "(41, 11)"
      ]
     },
     "execution_count": 20,
     "metadata": {},
     "output_type": "execute_result"
    }
   ],
   "source": [
    "dft = pd.read_csv(r\"Raw\\interestingasfuck.csv\")\n",
    "dft[dft['Sarcastic']==1].shape"
   ]
  },
  {
   "cell_type": "code",
   "execution_count": null,
   "metadata": {},
   "outputs": [],
   "source": [
    "df."
   ]
  }
 ],
 "metadata": {
  "kernelspec": {
   "display_name": "base",
   "language": "python",
   "name": "python3"
  },
  "language_info": {
   "codemirror_mode": {
    "name": "ipython",
    "version": 3
   },
   "file_extension": ".py",
   "mimetype": "text/x-python",
   "name": "python",
   "nbconvert_exporter": "python",
   "pygments_lexer": "ipython3",
   "version": "3.10.8"
  },
  "orig_nbformat": 4
 },
 "nbformat": 4,
 "nbformat_minor": 2
}
